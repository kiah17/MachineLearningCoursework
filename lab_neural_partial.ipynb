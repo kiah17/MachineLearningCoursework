{ 
 "cells": [
  {
   "cell_type": "markdown",
   "metadata": {},
   "source": [
    "# Lab:  Model Selection for Neural Data\n",
    "\n",
    "Machine learning is a key tool for neuroscientists to understand how sensory and motor signals are encoded in the brain. In addition to improving our scientific understanding of neural phenomena, understanding neural encoding is critical for brain machine interfaces. In this lab, you will use model selection for performing some simple analysis on real neural signals. \n",
    "\n",
    "Before doing this lab, you should review the ideas in the [polynomial model selection demo](./polyfit.ipynb).  In addition to the concepts in that demo, you will learn to:\n",
    "* Load MATLAB data\n",
    "* Formulate models of different complexities using heuristic model selection\n",
    "* Fit a linear model for the different model orders\n",
    "* Select the optimal model via cross-validation\n",
    "\n",
    "The last stage of the lab uses LASSO estimation for model selection.  If you are doing this part of the lab, you should review the concepts in [LASSO demonstration](./prostate.ipynb) on the prostate cancer  dataset.  "
   ]
  },
  {
   "cell_type": "markdown",
   "metadata": {},
   "source": [
    "## Loading the data\n",
    "\n",
    "The data in this lab comes from neural recordings described in:\n",
    "\n",
    "<a href=\"http://jn.physiology.org/content/106/2/764.short\">\n",
    "Stevenson, Ian H., et al. \"Statistical assessment of the stability of neural movement representations.\" Journal of neurophysiology 106.2 (2011): 764-774</a>\n",
    "\n",
    "Neurons are the basic information processing units in the brain.  Neurons communicate with one another via *spikes* or *action potentials* which are brief events where voltage in the neuron rapidly rises then falls.  These spikes trigger the electro-chemical signals between one neuron and another.  In this experiment, the spikes were recorded from 196 neurons in the primary motor cortex (M1) of a monkey using an electrode array implanted onto the surface of a monkey's brain.  During the recording, the monkey performed several reaching tasks and the position and velocity of the hand was recorded as well.  \n",
    "\n",
    "The goal of the experiment is to try to *read the monkey's brain*:  That is, predict the hand motion from the neural signals from the motor cortex.\n",
    "\n",
    "We first load the basic packages."
   ]
  },
  {
   "cell_type": "code",
   "execution_count": 138,
   "metadata": {
    "collapsed": true
   },
   "outputs": [],
   "source": [
    "import numpy as np\n",
    "import matplotlib\n",
    "import matplotlib.pyplot as plt\n",
    "%matplotlib inline"
   ]
  },
  {
   "cell_type": "markdown",
   "metadata": {},
   "source": [
    "The full data is available on the CRCNS website  http://crcns.org/data-sets/movements/dream.  This website has a large number of great datasets and can be used for projects as well.  To make this lab easier, I have pre-processed the data slightly and placed it in the file `StevensonV2.mat`, which is a MATLAB file.  You will need to have this file downloaded in the directory you are working on.\n",
    "\n",
    "Since MATLAB is widely-used, `python` provides method for loading MATLAB `mat` files.  We can use these commands to load the data as follows."
   ]
  },
  {
   "cell_type": "code",
   "execution_count": 139,
   "metadata": {
    "collapsed": true
   },
   "outputs": [],
   "source": [
    "import scipy.io\n",
    "mat_dict = scipy.io.loadmat(\"StevensonV2.mat\")"
   ]
  },
  {
   "cell_type": "markdown",
   "metadata": {},
   "source": [
    "The returned structure, `mat_dict`, is a dictionary with each of the MATLAB variables that were saved in the `.mat` file.  Use the `.keys()` method to list all the variables."
   ]
  },
  {
   "cell_type": "code",
   "execution_count": 140,
   "metadata": {},
   "outputs": [
    {
     "data": {
      "text/plain": [
       "dict_keys(['__header__', '__version__', '__globals__', 'Publication', 'timeBase', 'spikes', 'time', 'handVel', 'handPos', 'target', 'startBins', 'targets', 'startBinned'])"
      ]
     },
     "execution_count": 140,
     "metadata": {},
     "output_type": "execute_result"
    }
   ],
   "source": [
    "#TODO\n",
    "mat_dict.keys()"
   ]
  },
  {
   "cell_type": "markdown",
   "metadata": {},
   "source": [
    "We extract two variables, `spikes` and `handVel`, from the dictionary `mat_dict`, which represent the recorded spikes per neuron and the hand velocity.  We take the transpose of the spikes data so that it is in the form time bins $\\times$ number of neurons.  For the `handVel` data, we take the first component which is the motion in the $x$-direction."
   ]
  },
  {
   "cell_type": "code",
   "execution_count": 141,
   "metadata": {
    "collapsed": true
   },
   "outputs": [],
   "source": [
    "X0 = mat_dict['spikes'].T\n",
    "y0 = mat_dict['handVel'][0,:]"
   ]
  },
  {
   "cell_type": "markdown",
   "metadata": {},
   "source": [
    "The `spikes` matrix will be a `nt x nneuron` matrix where `nt` is the number of time bins and `nneuron` is the number of neurons.  Each entry `spikes[k,j]` is the number of spikes in time bin `k` from neuron `j`.  Use the `shape` method to find `nt` and `nneuron` and print the values."
   ]
  },
  {
   "cell_type": "code",
   "execution_count": 142,
   "metadata": {},
   "outputs": [
    {
     "name": "stdout",
     "output_type": "stream",
     "text": [
      "nt = 15536\n",
      "nneuron = 196\n"
     ]
    }
   ],
   "source": [
    "# TODO \n",
    "X0.shape\n",
    "nt = X0.shape[0]\n",
    "nneuron=X0.shape[1]\n",
    "print('nt = '+str(X0.shape[0]))\n",
    "print('nneuron = '+str(X0.shape[1]))"
   ]
  },
  {
   "cell_type": "markdown",
   "metadata": {},
   "source": [
    "Now extract the `time` variable from the `mat_dict` dictionary.  Reshape this to a 1D array with `nt` components.  Each entry `time[k]` is the starting time of the time bin `k`.  Find the sampling time `tsamp` which is the time between measurements, and `ttotal` which is the total duration of the recording."
   ]
  },
  {
   "cell_type": "code",
   "execution_count": 143,
   "metadata": {},
   "outputs": [
    {
     "name": "stdout",
     "output_type": "stream",
     "text": [
      "tsamp = 0.05\n",
      "Number of samples: 15536\n",
      "ttotal = 776.75\n"
     ]
    }
   ],
   "source": [
    "# TODO\n",
    "time = mat_dict['time']\n",
    "time.reshape(1,nt)\n",
    "print('tsamp = ' +str(time[0][1]-time[0][0]))\n",
    "l = len(time[0])\n",
    "print('Number of samples: ' +str(l))\n",
    "print('ttotal = ' + str(time[0][l-1] - time[0][0]))"
   ]
  },
  {
   "cell_type": "markdown",
   "metadata": {},
   "source": [
    "## Linear fitting on all the neurons\n",
    "\n",
    "First divide the data into training and test with approximately half the samples in each.  Let `Xtr` and `ytr` denote the training data and `Xts` and `yts` denote the test data."
   ]
  },
  {
   "cell_type": "code",
   "execution_count": 144,
   "metadata": {
    "collapsed": true
   },
   "outputs": [],
   "source": [
    "# TODO\n",
    "\n",
    "Xtr = X0[0:(15536//2),:]\n",
    "ytr = y0[0:(15536//2)]\n",
    "Xts = X0[(15536//2):,:]\n",
    "yts = y0[(15536//2):]"
   ]
  },
  {
   "cell_type": "markdown",
   "metadata": {},
   "source": [
    "Now, we begin by trying to fit a simple linear model using *all* the neurons as predictors.  To this end, use the `sklearn.linear_model` package to create a regression object, and fit the linear model to the training data."
   ]
  },
  {
   "cell_type": "code",
   "execution_count": 149,
   "metadata": {},
   "outputs": [
    {
     "data": {
      "text/plain": [
       "LinearRegression(copy_X=True, fit_intercept=True, n_jobs=1, normalize=False)"
      ]
     },
     "execution_count": 149,
     "metadata": {},
     "output_type": "execute_result"
    }
   ],
   "source": [
    "import sklearn.linear_model\n",
    "\n",
    "regr = sklearn.linear_model.LinearRegression()\n",
    "regr.fit(Xtr,ytr)"
   ]
  },
  {
   "cell_type": "markdown",
   "metadata": {},
   "source": [
    "Measure and print the normalized RSS on the test data.  "
   ]
  },
  {
   "cell_type": "code",
   "execution_count": 150,
   "metadata": {},
   "outputs": [
    {
     "name": "stdout",
     "output_type": "stream",
     "text": [
      "Normalized RSS on the test data= 1.88937984291e+21\n"
     ]
    }
   ],
   "source": [
    "# TODO\n",
    "vel_pred_ts = regr.predict(Xts)\n",
    "n = len(time[0]) #number of training examples\n",
    "var_ts = np.var(yts)\n",
    "RSS_test = np.mean((vel_pred_ts-yts)**2)/var_ts\n",
    "print('Normalized RSS on the test data= '+str(RSS_test))\n",
    "#print(vel_pred_ts)"
   ]
  },
  {
   "cell_type": "markdown",
   "metadata": {},
   "source": [
    "You should see that the test error is enormous -- the model does not generalize to the test data at all. "
   ]
  },
  {
   "cell_type": "markdown",
   "metadata": {},
   "source": [
    "## Linear Fitting  with Heuristic Model Selection\n",
    "\n",
    "The above shows that we need a way to reduce the model complexity.  One simple idea is to select only the neurons that individually have a high correlation with the output.   \n",
    "\n",
    "Write code which computes the coefficient of determination, $R^2_k$, for each neuron $k$.  Plot the $R^2_k$ values.  \n",
    "\n",
    "You can use a for loop over each neuron, but if you want to make efficient code try to avoid the for loop and use [python broadcasting](../Basics/numpy_axes_broadcasting.ipynb)."
   ]
  },
  {
   "cell_type": "code",
   "execution_count": 151,
   "metadata": {},
   "outputs": [
    {
     "name": "stdout",
     "output_type": "stream",
     "text": [
      "0.00304952956781\n",
      "196\n",
      "(7768, 196)\n"
     ]
    },
    {
     "data": {
      "image/png": "[encoded data removed]",
      "text/plain": [
       "<matplotlib.figure.Figure at 0x1ab123af080>"
      ]
     },
     "metadata": {},
     "output_type": "display_data"
    }
   ],
   "source": [
    "# TODO\n",
    "ytr_var = np.var(ytr)\n",
    "print(ytr_var)\n",
    "#The preicted values taking one neuron at a time \n",
    "pred_mat= []\n",
    "neurons = Xtr.shape[1]\n",
    "print(neurons)\n",
    "#print(Xtr[0:5,:])\n",
    "#print(Xtr[0:5,0])\n",
    "#trial = Xtr[0:5,0]\n",
    "#trial.reshape(-1,1)\n",
    "\n",
    "for i in range(0,neurons):\n",
    "    tempo= Xtr[:,i].reshape(-1,1)\n",
    "    regr.fit(tempo,ytr) #training with each neuron \n",
    "    pred_mat.append(regr.predict(tempo)) #prediction for each neuron \n",
    "\n",
    "intermediate = np.array(pred_mat).T #an array 7768x196 containing predicted values for each time bin for each neuron \n",
    "print(intermediate.shape)\n",
    "intermediate_rss= ((intermediate - ytr.reshape(7768,1))**2)\n",
    "intermediate_rss_mean = (np.sum(intermediate_rss,axis=0)/7768)/ytr_var\n",
    "Rsq = np.array(1 - intermediate_rss_mean)\n",
    "#print(Rsq)\n",
    "#print(ytr.shape)\n",
    "#print(intermediate[0:5,:])\n",
    "#print(len(intermediate[0]))\n",
    "plt.stem(range(0,neurons),Rsq)\n",
    "plt.xlabel('Neuron number')\n",
    "plt.ylabel('Rsq')\n",
    "plt.show()"
   ]
  },
  {
   "cell_type": "markdown",
   "metadata": {},
   "source": [
    "We see that many neurons have low correlation and can probably be discarded from the model.    \n",
    "\n",
    "Use the `np.argsort()` command to find the indices of the `d=100` neurons with the highest $R^2_k$ value.  Put the `d` indices into an array `Isel`.  Print the indices of the neurons with the 10 highest correlations."
   ]
  },
  {
   "cell_type": "code",
   "execution_count": 152,
   "metadata": {},
   "outputs": [
    {
     "name": "stdout",
     "output_type": "stream",
     "text": [
      "The neurons with the ten highest R^2 values = [192 152  58 136 153  67  98 120 195 193]\n"
     ]
    }
   ],
   "source": [
    "d = 100  # Number of neurons to use\n",
    "\n",
    "# TODO\n",
    "np.argsort(Rsq)\n",
    "neu_sel = Rsq.argsort()[-100:][::-1]\n",
    "neu_all = Rsq.argsort()[:][::-1]\n",
    "#print(neu_sel)\n",
    "#print(neu_all)\n",
    "\n",
    "print(\"The neurons with the ten highest R^2 values =\" , Rsq.argsort()[-10:][::-1] )"
   ]
  },
  {
   "cell_type": "markdown",
   "metadata": {},
   "source": [
    "Fit a model using only the `d` neurons selected in the previous step and print both the test RSS per sample and the normalized test RSS."
   ]
  },
  {
   "cell_type": "code",
   "execution_count": 153,
   "metadata": {},
   "outputs": [
    {
     "name": "stdout",
     "output_type": "stream",
     "text": [
      "RSS per sample =  0.00162913416395\n",
      "Normalized test RSS = 0.514132924996\n"
     ]
    }
   ],
   "source": [
    "# TODO\n",
    "#new training set \n",
    "import pandas as pd\n",
    "Xtr_int = pd.DataFrame(Xtr)\n",
    "Xtr_int.head(6)\n",
    "Xts_int = pd.DataFrame(Xts)\n",
    "\n",
    "Xtr_new = Xtr_int[[num for num in neu_sel]] #new selected training features \n",
    "Xts_new = Xts_int[[num for num in neu_sel]] #new selected testing features\n",
    "regr.fit(Xtr_new,ytr)\n",
    "ypred_new_test = regr.predict(Xts_new)\n",
    "\n",
    "RSS_per_sample = np.mean((yts-ypred_new_test)**2)\n",
    "RSS_test_new = RSS_per_sample/np.var(yts)\n",
    "print('RSS per sample = ',RSS_per_sample)\n",
    "print('Normalized test RSS =', RSS_test_new)"
   ]
  },
  {
   "cell_type": "markdown",
   "metadata": {},
   "source": [
    "Create a scatter plot of the predicted vs. actual hand motion on the test data.  On the same plot, plot the line where `yts_hat = yts`."
   ]
  },
  {
   "cell_type": "code",
   "execution_count": 154,
   "metadata": {},
   "outputs": [
    {
     "data": {
      "image/png": "[encoded data removed]",
      "text/plain": [
       "<matplotlib.figure.Figure at 0x1ab14393b70>"
      ]
     },
     "metadata": {},
     "output_type": "display_data"
    }
   ],
   "source": [
    "# TODO\n",
    "\n",
    "plt.scatter(yts,ypred_new_test)\n",
    "\n",
    "\n",
    "plt.plot(ypred_new_test,ypred_new_test,'r')\n",
    "plt.xlabel('Actual hand motion')\n",
    "plt.ylabel('Predicted hand motion')\n",
    "plt.legend(['Line where Actual = predicted','Predicted vs actual'])\n",
    "plt.plot()\n",
    "plt.show()"
   ]
  },
  {
   "cell_type": "markdown",
   "metadata": {},
   "source": [
    "## Using K-fold cross validation for the optimal number of neurons\n",
    "\n",
    "In the above, we fixed `d=100`.  We can use cross validation to try to determine the best number of neurons to use.  Try model orders with `d=10,20,...,190`.  For each value of `d`, use K-fold validation with 10 folds to estimate the test RSS.  For a data set this size, each fold will take a few seconds to compute, so it may be useful to print the progress."
   ]
  },
  {
   "cell_type": "code",
   "execution_count": 155,
   "metadata": {},
   "outputs": [
    {
     "name": "stdout",
     "output_type": "stream",
     "text": [
      "Indices in descending order of R^2: \n",
      "\n",
      "[192 152  58 136 153  67  98 120 195 193 151  80 154 145  61 158 144   4\n",
      "   6 155  43   2 126 134 128   3 168 167 182 100 188 172  84  22  29 150\n",
      "   1  36 183  66 147 162 129   0  55 146 117 141 190 142 103 110  30 137\n",
      " 125  54 111  68  42  35 178  50  14  71  20 133  52 132  87 135 166  79\n",
      " 170  44 108 148 186 179 127 189 109  39 149  65 176  64 106  45  25  93\n",
      "  26  46 102 131 115  73 143 185  69 112  95  15  47  10  51 116  21  83\n",
      " 123 119  86  76 118 124 138 160  60  59  18  16  57 169 107 156   8 187\n",
      " 140  11  17 114  49 194  12 159 165 175 180   5  48 130  91 121  90  75\n",
      "  34  40 173 104  97  23  89  99 101  85 161  88 164 191  78  96  27  28\n",
      "   7 157  81  92  77  19  38  63 171  32  33  74  70 113 181   9  56 174\n",
      "  72 184  94  31 163  62  37  53  24  82 105 122  13 177 139  41]\n",
      "\n",
      "\n",
      "Showing the first 6 rows in the modified dataset...\n"
     ]
    },
    {
     "data": {
      "text/html": [
       "<div>\n",
       "<style>\n",
       "    .dataframe thead tr:only-child th {\n",
       "        text-align: right;\n",
       "    }\n",
       "\n",
       "    .dataframe thead th {\n",
       "        text-align: left;\n",
       "    }\n",
       "\n",
       "    .dataframe tbody tr th {\n",
       "        vertical-align: top;\n",
       "    }\n",
       "</style>\n",
       "<table border=\"1\" class=\"dataframe\">\n",
       "  <thead>\n",
       "    <tr style=\"text-align: right;\">\n",
       "      <th></th>\n",
       "      <th>192</th>\n",
       "      <th>152</th>\n",
       "      <th>58</th>\n",
       "      <th>136</th>\n",
       "      <th>153</th>\n",
       "      <th>67</th>\n",
       "      <th>98</th>\n",
       "      <th>120</th>\n",
       "      <th>195</th>\n",
       "      <th>193</th>\n",
       "      <th>...</th>\n",
       "      <th>37</th>\n",
       "      <th>53</th>\n",
       "      <th>24</th>\n",
       "      <th>82</th>\n",
       "      <th>105</th>\n",
       "      <th>122</th>\n",
       "      <th>13</th>\n",
       "      <th>177</th>\n",
       "      <th>139</th>\n",
       "      <th>41</th>\n",
       "    </tr>\n",
       "  </thead>\n",
       "  <tbody>\n",
       "    <tr>\n",
       "      <th>0</th>\n",
       "      <td>0</td>\n",
       "      <td>1</td>\n",
       "      <td>1</td>\n",
       "      <td>3</td>\n",
       "      <td>6</td>\n",
       "      <td>0</td>\n",
       "      <td>9</td>\n",
       "      <td>3</td>\n",
       "      <td>2</td>\n",
       "      <td>2</td>\n",
       "      <td>...</td>\n",
       "      <td>0</td>\n",
       "      <td>0</td>\n",
       "      <td>0</td>\n",
       "      <td>0</td>\n",
       "      <td>0</td>\n",
       "      <td>0</td>\n",
       "      <td>0</td>\n",
       "      <td>0</td>\n",
       "      <td>0</td>\n",
       "      <td>0</td>\n",
       "    </tr>\n",
       "    <tr>\n",
       "      <th>1</th>\n",
       "      <td>0</td>\n",
       "      <td>1</td>\n",
       "      <td>1</td>\n",
       "      <td>4</td>\n",
       "      <td>4</td>\n",
       "      <td>0</td>\n",
       "      <td>7</td>\n",
       "      <td>6</td>\n",
       "      <td>0</td>\n",
       "      <td>0</td>\n",
       "      <td>...</td>\n",
       "      <td>0</td>\n",
       "      <td>0</td>\n",
       "      <td>0</td>\n",
       "      <td>0</td>\n",
       "      <td>0</td>\n",
       "      <td>0</td>\n",
       "      <td>0</td>\n",
       "      <td>0</td>\n",
       "      <td>0</td>\n",
       "      <td>0</td>\n",
       "    </tr>\n",
       "    <tr>\n",
       "      <th>2</th>\n",
       "      <td>0</td>\n",
       "      <td>0</td>\n",
       "      <td>2</td>\n",
       "      <td>5</td>\n",
       "      <td>4</td>\n",
       "      <td>0</td>\n",
       "      <td>7</td>\n",
       "      <td>3</td>\n",
       "      <td>3</td>\n",
       "      <td>0</td>\n",
       "      <td>...</td>\n",
       "      <td>0</td>\n",
       "      <td>0</td>\n",
       "      <td>0</td>\n",
       "      <td>0</td>\n",
       "      <td>0</td>\n",
       "      <td>0</td>\n",
       "      <td>0</td>\n",
       "      <td>0</td>\n",
       "      <td>0</td>\n",
       "      <td>0</td>\n",
       "    </tr>\n",
       "    <tr>\n",
       "      <th>3</th>\n",
       "      <td>0</td>\n",
       "      <td>0</td>\n",
       "      <td>1</td>\n",
       "      <td>7</td>\n",
       "      <td>2</td>\n",
       "      <td>0</td>\n",
       "      <td>7</td>\n",
       "      <td>4</td>\n",
       "      <td>2</td>\n",
       "      <td>1</td>\n",
       "      <td>...</td>\n",
       "      <td>0</td>\n",
       "      <td>0</td>\n",
       "      <td>0</td>\n",
       "      <td>0</td>\n",
       "      <td>0</td>\n",
       "      <td>0</td>\n",
       "      <td>0</td>\n",
       "      <td>0</td>\n",
       "      <td>0</td>\n",
       "      <td>0</td>\n",
       "    </tr>\n",
       "    <tr>\n",
       "      <th>4</th>\n",
       "      <td>0</td>\n",
       "      <td>2</td>\n",
       "      <td>1</td>\n",
       "      <td>4</td>\n",
       "      <td>4</td>\n",
       "      <td>1</td>\n",
       "      <td>8</td>\n",
       "      <td>8</td>\n",
       "      <td>3</td>\n",
       "      <td>0</td>\n",
       "      <td>...</td>\n",
       "      <td>0</td>\n",
       "      <td>0</td>\n",
       "      <td>0</td>\n",
       "      <td>0</td>\n",
       "      <td>0</td>\n",
       "      <td>0</td>\n",
       "      <td>0</td>\n",
       "      <td>0</td>\n",
       "      <td>0</td>\n",
       "      <td>0</td>\n",
       "    </tr>\n",
       "    <tr>\n",
       "      <th>5</th>\n",
       "      <td>1</td>\n",
       "      <td>0</td>\n",
       "      <td>1</td>\n",
       "      <td>4</td>\n",
       "      <td>3</td>\n",
       "      <td>2</td>\n",
       "      <td>8</td>\n",
       "      <td>4</td>\n",
       "      <td>3</td>\n",
       "      <td>0</td>\n",
       "      <td>...</td>\n",
       "      <td>0</td>\n",
       "      <td>0</td>\n",
       "      <td>0</td>\n",
       "      <td>0</td>\n",
       "      <td>0</td>\n",
       "      <td>0</td>\n",
       "      <td>0</td>\n",
       "      <td>0</td>\n",
       "      <td>0</td>\n",
       "      <td>0</td>\n",
       "    </tr>\n",
       "  </tbody>\n",
       "</table>\n",
       "<p>6 rows × 196 columns</p>\n",
       "</div>"
      ],
      "text/plain": [
       "   192  152  58   136  153  67   98   120  195  193 ...   37   53   24   82   \\\n",
       "0    0    1    1    3    6    0    9    3    2    2 ...     0    0    0    0   \n",
       "1    0    1    1    4    4    0    7    6    0    0 ...     0    0    0    0   \n",
       "2    0    0    2    5    4    0    7    3    3    0 ...     0    0    0    0   \n",
       "3    0    0    1    7    2    0    7    4    2    1 ...     0    0    0    0   \n",
       "4    0    2    1    4    4    1    8    8    3    0 ...     0    0    0    0   \n",
       "5    1    0    1    4    3    2    8    4    3    0 ...     0    0    0    0   \n",
       "\n",
       "   105  122  13   177  139  41   \n",
       "0    0    0    0    0    0    0  \n",
       "1    0    0    0    0    0    0  \n",
       "2    0    0    0    0    0    0  \n",
       "3    0    0    0    0    0    0  \n",
       "4    0    0    0    0    0    0  \n",
       "5    0    0    0    0    0    0  \n",
       "\n",
       "[6 rows x 196 columns]"
      ]
     },
     "execution_count": 155,
     "metadata": {},
     "output_type": "execute_result"
    }
   ],
   "source": [
    "#modifying the original array so that the neuron columns appear in decreasing orfer of R^2\n",
    "#when d= n , the neurons with the highest n R^s are chosen for training in the kfold cross validation\n",
    "#new array stored in X0_arranged\n",
    "\n",
    "X0_arranged = pd.DataFrame(X0)\n",
    "X0_arranged.head(6)\n",
    "cols = X0_arranged.columns.tolist()\n",
    "cols = neu_all\n",
    "print('Indices in descending order of R^2: \\n')\n",
    "print(cols)\n",
    "X0_arranged =X0_arranged[cols]\n",
    "print('\\n\\nShowing the first 6 rows in the modified dataset...')\n",
    "#print(X0_arranged.iloc[0:1,0:10])\n",
    "X0_arranged.head(6)\n",
    "\n",
    "#\n",
    "#kfoldset = X0_arranged.as_matrix(columns=None)\n",
    "\n",
    "#print(X0_kfold[0:5,:])\n",
    "#print(kfoldset[0:5,:])\n"
   ]
  },
  {
   "cell_type": "markdown",
   "metadata": {},
   "source": [
    "# 10-fold validation was done for model numbers ranging from 10 to 190 in steps of 10. The error was seen to decrease with increase in model number up to 190. \n"
   ]
  },
  {
   "cell_type": "markdown",
   "metadata": {},
   "source": [
    "#code FOR d RANGING FROM 10 TO 190"
   ]
  },
  {
   "cell_type": "code",
   "execution_count": 178,
   "metadata": {},
   "outputs": [
    {
     "name": "stdout",
     "output_type": "stream",
     "text": [
      "19\n",
      "[[ 0.00192091  0.00198375  0.00179466  0.00173357  0.00190124  0.00178392\n",
      "   0.00190113  0.00192817  0.00189789  0.00183265]\n",
      " [ 0.00180135  0.00181668  0.0016316   0.00158993  0.00170722  0.00170556\n",
      "   0.00180023  0.00176051  0.00171596  0.0017203 ]\n",
      " [ 0.00177173  0.00176931  0.00158664  0.00156714  0.00169916  0.00169686\n",
      "   0.00177318  0.0017417   0.00169635  0.00169754]\n",
      " [ 0.00173167  0.00169173  0.0015448   0.0015336   0.00169958  0.00165419\n",
      "   0.00172178  0.0016945   0.00164385  0.00163777]\n",
      " [ 0.0016997   0.00168048  0.00153511  0.00150622  0.00167411  0.00164166\n",
      "   0.00170755  0.00169494  0.00162432  0.00160124]\n",
      " [ 0.00166397  0.00165893  0.00151887  0.0014647   0.00163835  0.00162671\n",
      "   0.00168737  0.00167453  0.0015773   0.00154749]\n",
      " [ 0.00164823  0.00164881  0.00151026  0.00144823  0.00162169  0.00160939\n",
      "   0.00167856  0.00166104  0.00157441  0.00153206]\n",
      " [ 0.0016213   0.00164317  0.00147103  0.00140702  0.00158627  0.00157564\n",
      "   0.00164638  0.00162905  0.00157991  0.00151419]\n",
      " [ 0.00160462  0.00162973  0.00145606  0.00139201  0.00155707  0.00156873\n",
      "   0.00162925  0.00161868  0.00156997  0.00150127]\n",
      " [ 0.00161461  0.0016223   0.00145212  0.00138571  0.00155117  0.00155931\n",
      "   0.00161827  0.00161263  0.00155623  0.00149114]\n",
      " [ 0.00161845  0.00162093  0.0014526   0.00138332  0.00154389  0.00155265\n",
      "   0.00161449  0.00162309  0.0015532   0.00148846]\n",
      " [ 0.00161484  0.00161837  0.00145894  0.00137532  0.0015359   0.00154012\n",
      "   0.00160855  0.00161655  0.00154986  0.00148236]\n",
      " [ 0.00157432  0.0015727   0.00142311  0.00134198  0.00152678  0.00150773\n",
      "   0.00157386  0.00156195  0.00149066  0.00143727]\n",
      " [ 0.0015745   0.00156587  0.0014179   0.00134454  0.00152782  0.0015048\n",
      "   0.00157227  0.00156154  0.00148671  0.00144719]\n",
      " [ 0.00156811  0.00156578  0.00140659  0.00134523  0.00152454  0.00150554\n",
      "   0.00156655  0.00156303  0.00149187  0.00144138]\n",
      " [ 0.00155396  0.00155685  0.00139897  0.00133894  0.00152305  0.00149894\n",
      "   0.00156718  0.00155622  0.00149079  0.00143831]\n",
      " [ 0.00155368  0.00155842  0.00140016  0.00133892  0.00152721  0.00150204\n",
      "   0.00156557  0.00155401  0.00149161  0.00143848]\n",
      " [ 0.00155102  0.0015587   0.00139656  0.0013382   0.00152535  0.00150537\n",
      "   0.00157156  0.0015483   0.00148366  0.00143552]\n",
      " [ 0.00154569  0.00154946  0.00139024  0.00133809  0.00151504  0.00150312\n",
      "   0.00156758  0.00154626  0.00148687  0.00143684]]\n"
     ]
    }
   ],
   "source": [
    "import  sklearn.model_selection \n",
    "\n",
    "# Create a k-fold object\n",
    "nfold = 10\n",
    "kf = sklearn.model_selection.KFold(n_splits=nfold,shuffle=True)\n",
    "\n",
    "# Model orders to be tested\n",
    "dtest = np.arange(10,200,10)\n",
    "nd = len(dtest)\n",
    "print(nd)\n",
    "\n",
    "#Modified dataset for K-fold \n",
    "X0_kfold = np.array(X0_arranged)\n",
    "\n",
    "\n",
    "RSSts = np.zeros((nd,nfold))\n",
    "#print(RSSts)\n",
    "for isplit, Ind in enumerate(kf.split(X0_kfold)):\n",
    "    Itr,Its = Ind\n",
    "    xtra = X0_kfold[Itr]\n",
    "    ytra = y0[Itr]\n",
    "    xtes = X0_kfold[Its]\n",
    "    ytes = y0[Its]\n",
    "    \n",
    "    for it,d in enumerate(dtest):\n",
    "        xtraa = pd.DataFrame(xtra) \n",
    "        xtraaa = xtraa.iloc[:,0:d] #chooses the first d columns of the dataframe (which is in decreasing order of\n",
    "                                   # R^2) in each iteration of model order \n",
    "        clf = sklearn.linear_model.LinearRegression()\n",
    "        clf.fit(xtraaa,ytra)\n",
    "        \n",
    "        xtess = pd.DataFrame(xtes)\n",
    "        xtesss = xtess.iloc[:,0:d]\n",
    "        p = clf.predict(xtesss)\n",
    "        RSSts[it,isplit]= np.mean((p-ytes)**2)\n",
    "        #print(d)\n",
    "\n",
    "print(RSSts)"
   ]
  },
  {
   "cell_type": "markdown",
   "metadata": {},
   "source": [
    "Compute the RSS test mean and standard error and plot them as a function of the model order `d` using the `plt.errorbar()` method. "
   ]
  },
  {
   "cell_type": "code",
   "execution_count": 179,
   "metadata": {},
   "outputs": [
    {
     "data": {
      "image/png": "[encoded data removed]",
      "text/plain": [
       "<matplotlib.figure.Figure at 0x1ab1437afd0>"
      ]
     },
     "metadata": {},
     "output_type": "display_data"
    },
    {
     "name": "stdout",
     "output_type": "stream",
     "text": [
      "Number of models:  19\n",
      "Minimum RSS:  0.00148791918372\n",
      "Maximim RSS:  0.00186778861121\n"
     ]
    }
   ],
   "source": [
    "# TODO\n",
    "rss_test_mean = np.mean(RSSts,axis=1)\n",
    "rss_std_err = np.std(RSSts,axis=1)/np.sqrt(nfold-1)\n",
    "plt.errorbar(dtest,rss_test_mean,yerr=rss_std_err,fmt='-')\n",
    "plt.xlabel('Model order d')\n",
    "plt.ylabel('RSS test mean')\n",
    "plt.grid()\n",
    "plt.show()\n",
    "print('Number of models: ' ,len(rss_test_mean))\n",
    "print('Minimum RSS: ', min(rss_test_mean))\n",
    "print('Maximim RSS: ',max(rss_test_mean))"
   ]
  },
  {
   "cell_type": "markdown",
   "metadata": {},
   "source": [
    "Find the optimal order using the one standard error rule. Print the optimal value of `d` and the mean test RSS per sample at the optimal `d`.  "
   ]
  },
  {
   "cell_type": "code",
   "execution_count": 180,
   "metadata": {},
   "outputs": [
    {
     "name": "stdout",
     "output_type": "stream",
     "text": [
      "Optimum model d:  190\n",
      "Mean RSS per sample at optimal d = 190:  0.00148791918372\n"
     ]
    }
   ],
   "source": [
    "# TODO\n",
    "mini = np.argmin(rss_test_mean)\n",
    "msee_tgt = rss_test_mean[mini]+rss_std_err[mini]\n",
    "d_min= dtest[mini]\n",
    "\n",
    "I=np.where(rss_test_mean< msee_tgt)[0]\n",
    "opti = I[-1]\n",
    "d_opt = dtest[opti]\n",
    "print('Optimum model d: ',d_opt)\n",
    "#d=190 is the 19th observation in rss_test_mean\n",
    "print('Mean RSS per sample at optimal d = 190: ',rss_test_mean[18])"
   ]
  },
  {
   "cell_type": "markdown",
   "metadata": {},
   "source": [
    "## Using LASSO regression\n",
    "\n",
    "Instead of using the above heuristic to select the variables, we can use LASSO regression.  \n",
    "\n",
    "First use the `preprocessing.scale` method to standardize the data matrix `X0`.  Store the standardized values in `Xs`.  You do not need to standardize the response.  For this data, the `scale` routine may throw a warning that you are converting data types.  That is fine."
   ]
  },
  {
   "cell_type": "code",
   "execution_count": 134,
   "metadata": {},
   "outputs": [
    {
     "name": "stderr",
     "output_type": "stream",
     "text": [
      "C:\\Users\\Suhaila Shakiah\\Anaconda2\\envs\\py3k\\lib\\site-packages\\sklearn\\utils\\validation.py:429: DataConversionWarning: Data with input dtype uint8 was converted to float64 by the scale function.\n",
      "  warnings.warn(msg, _DataConversionWarning)\n"
     ]
    }
   ],
   "source": [
    "from sklearn import preprocessing\n",
    "#print (X0)\n",
    "X = preprocessing.scale(X0, axis=0, with_mean=True, with_std=True, copy=True)\n",
    "#print(X)"
   ]
  },
  {
   "cell_type": "markdown",
   "metadata": {},
   "source": [
    "Now, use the LASSO method to fit a model.  Use cross validation to select the regularization level `alpha`.  Use `alpha` values logarithmically spaced from `1e-5` to `0.1`, and use 10 fold cross validation.  "
   ]
  },
  {
   "cell_type": "code",
   "execution_count": 112,
   "metadata": {},
   "outputs": [
    {
     "name": "stdout",
     "output_type": "stream",
     "text": [
      "[[ 0.00156068  0.00157143  0.00161853  0.00135799  0.00154159  0.00138665\n",
      "   0.00156184  0.00150087  0.00130708  0.00147719]\n",
      " [ 0.00156066  0.0015714   0.00161855  0.00135794  0.00154156  0.00138656\n",
      "   0.00156182  0.00150081  0.00130704  0.00147713]\n",
      " [ 0.00156065  0.00157138  0.00161856  0.00135788  0.00154152  0.00138647\n",
      "   0.0015618   0.00150073  0.001307    0.00147708]\n",
      " [ 0.00156064  0.00157134  0.00161858  0.00135782  0.00154148  0.00138637\n",
      "   0.00156177  0.00150065  0.00130696  0.00147701]\n",
      " [ 0.00156062  0.00157131  0.0016186   0.00135775  0.00154144  0.00138626\n",
      "   0.00156175  0.00150057  0.00130691  0.00147695]\n",
      " [ 0.00156061  0.00157127  0.00161862  0.00135767  0.00154139  0.00138613\n",
      "   0.00156172  0.00150048  0.00130687  0.00147687]\n",
      " [ 0.0015606   0.00157123  0.00161864  0.00135759  0.00154134  0.001386\n",
      "   0.0015617   0.00150039  0.00130681  0.0014768 ]\n",
      " [ 0.00156057  0.00157118  0.00161867  0.00135751  0.00154127  0.00138586\n",
      "   0.00156167  0.00150028  0.00130676  0.00147672]\n",
      " [ 0.00156056  0.00157114  0.0016187   0.00135741  0.0015412   0.0013857\n",
      "   0.00156163  0.00150017  0.00130669  0.00147664]\n",
      " [ 0.00156054  0.00157108  0.00161874  0.00135731  0.00154112  0.00138553\n",
      "   0.00156159  0.00150004  0.00130664  0.00147654]\n",
      " [ 0.00156052  0.00157102  0.00161878  0.0013572   0.00154104  0.00138536\n",
      "   0.00156155  0.00149991  0.00130656  0.00147644]\n",
      " [ 0.0015605   0.00157097  0.00161884  0.00135708  0.00154095  0.00138516\n",
      "   0.0015615   0.00149976  0.00130649  0.00147632]\n",
      " [ 0.00156048  0.00157091  0.0016189   0.00135696  0.00154085  0.00138496\n",
      "   0.00156145  0.0014996   0.00130641  0.0014762 ]\n",
      " [ 0.00156046  0.00157086  0.00161896  0.00135683  0.00154075  0.00138473\n",
      "   0.00156141  0.00149943  0.00130633  0.00147606]\n",
      " [ 0.00156044  0.0015708   0.00161903  0.00135669  0.00154066  0.0013845\n",
      "   0.00156136  0.00149924  0.00130624  0.00147591]\n",
      " [ 0.00156042  0.00157075  0.00161912  0.00135655  0.00154055  0.00138423\n",
      "   0.00156131  0.00149905  0.00130616  0.00147575]\n",
      " [ 0.00156042  0.00157069  0.00161922  0.00135638  0.00154044  0.00138398\n",
      "   0.00156126  0.00149885  0.00130608  0.00147559]\n",
      " [ 0.00156043  0.00157062  0.00161933  0.00135621  0.00154032  0.0013837\n",
      "   0.0015612   0.00149863  0.00130599  0.00147542]\n",
      " [ 0.00156046  0.00157054  0.00161946  0.00135603  0.0015402   0.00138342\n",
      "   0.00156114  0.00149841  0.0013059   0.00147524]\n",
      " [ 0.0015605   0.00157046  0.00161962  0.00135584  0.00154007  0.00138312\n",
      "   0.0015611   0.00149817  0.00130579  0.00147506]\n",
      " [ 0.00156055  0.00157038  0.00161979  0.00135563  0.00153994  0.0013828\n",
      "   0.00156108  0.00149792  0.00130568  0.00147487]\n",
      " [ 0.00156062  0.0015703   0.00161999  0.00135541  0.0015398   0.00138247\n",
      "   0.00156107  0.00149768  0.00130553  0.00147466]\n",
      " [ 0.00156072  0.00157022  0.00162015  0.00135518  0.00153967  0.00138214\n",
      "   0.00156109  0.00149742  0.00130537  0.00147443]\n",
      " [ 0.00156086  0.00157015  0.00162028  0.00135493  0.00153954  0.00138181\n",
      "   0.00156112  0.00149715  0.00130522  0.0014742 ]\n",
      " [ 0.00156105  0.00157009  0.00162046  0.00135468  0.00153939  0.00138149\n",
      "   0.00156118  0.00149686  0.00130506  0.00147397]\n",
      " [ 0.00156131  0.00157003  0.00162069  0.00135443  0.00153924  0.00138113\n",
      "   0.0015613   0.00149653  0.00130489  0.00147375]\n",
      " [ 0.00156158  0.00157     0.00162095  0.00135418  0.00153908  0.00138076\n",
      "   0.0015615   0.0014962   0.00130475  0.00147355]\n",
      " [ 0.00156192  0.00157001  0.0016213   0.00135395  0.00153893  0.00138042\n",
      "   0.00156171  0.0014959   0.00130463  0.00147337]\n",
      " [ 0.00156226  0.00157009  0.00162171  0.00135373  0.00153882  0.00138008\n",
      "   0.00156195  0.00149561  0.00130453  0.00147322]\n",
      " [ 0.00156269  0.00157024  0.00162216  0.00135356  0.00153873  0.00137973\n",
      "   0.0015623   0.00149532  0.00130445  0.00147308]\n",
      " [ 0.00156316  0.00157052  0.00162269  0.0013534   0.00153862  0.00137942\n",
      "   0.00156283  0.0014951   0.00130443  0.001473  ]\n",
      " [ 0.00156373  0.00157086  0.00162329  0.00135328  0.00153854  0.00137916\n",
      "   0.00156352  0.00149494  0.00130449  0.00147297]\n",
      " [ 0.00156436  0.00157127  0.00162399  0.00135319  0.00153853  0.00137894\n",
      "   0.00156432  0.00149495  0.0013046   0.00147304]\n",
      " [ 0.00156521  0.00157171  0.00162483  0.0013531   0.00153859  0.00137886\n",
      "   0.00156529  0.00149499  0.00130485  0.0014733 ]\n",
      " [ 0.00156623  0.00157222  0.00162585  0.00135305  0.00153867  0.00137879\n",
      "   0.00156647  0.00149503  0.00130516  0.00147369]\n",
      " [ 0.00156756  0.00157276  0.00162713  0.00135316  0.00153877  0.00137874\n",
      "   0.00156793  0.00149497  0.00130551  0.00147423]\n",
      " [ 0.00156918  0.00157368  0.00162867  0.00135368  0.00153904  0.00137887\n",
      "   0.00156973  0.00149479  0.00130593  0.001475  ]\n",
      " [ 0.00157116  0.00157498  0.00163058  0.00135453  0.00153953  0.00137926\n",
      "   0.00157187  0.00149479  0.00130649  0.00147605]\n",
      " [ 0.00157339  0.00157669  0.00163297  0.00135575  0.00154023  0.00138002\n",
      "   0.00157419  0.00149516  0.00130733  0.00147738]\n",
      " [ 0.00157589  0.00157887  0.00163563  0.00135745  0.0015411   0.00138088\n",
      "   0.0015769   0.00149578  0.00130859  0.00147899]\n",
      " [ 0.00157853  0.00158148  0.00163873  0.00135946  0.00154242  0.00138179\n",
      "   0.00157999  0.00149616  0.00131026  0.0014806 ]\n",
      " [ 0.00158152  0.00158459  0.00164239  0.00136173  0.00154371  0.00138258\n",
      "   0.00158345  0.00149707  0.00131228  0.00148271]\n",
      " [ 0.00158482  0.00158769  0.00164671  0.00136446  0.00154491  0.00138371\n",
      "   0.00158752  0.0014982   0.00131445  0.00148521]\n",
      " [ 0.00158882  0.00159109  0.00165157  0.00136736  0.00154653  0.00138522\n",
      "   0.00159214  0.0014995   0.00131673  0.00148792]\n",
      " [ 0.00159359  0.00159503  0.00165721  0.0013707   0.00154858  0.00138711\n",
      "   0.00159764  0.0015013   0.0013194   0.0014913 ]\n",
      " [ 0.00159923  0.00159979  0.0016638   0.00137481  0.00155087  0.00138951\n",
      "   0.00160392  0.00150377  0.00132275  0.00149558]\n",
      " [ 0.00160595  0.0016053   0.00167141  0.00138002  0.00155364  0.00139275\n",
      "   0.00161128  0.00150669  0.00132689  0.00150053]\n",
      " [ 0.00161352  0.00161207  0.00168019  0.00138663  0.00155737  0.0013968\n",
      "   0.00162017  0.00151033  0.00133205  0.00150643]\n",
      " [ 0.00162214  0.00162008  0.00169032  0.0013944   0.00156221  0.00140192\n",
      "   0.00163034  0.00151475  0.00133847  0.00151341]\n",
      " [ 0.00163226  0.00162954  0.00170189  0.00140354  0.00156822  0.00140829\n",
      "   0.00164221  0.00152056  0.00134564  0.0015218 ]\n",
      " [ 0.00164396  0.00164088  0.00171462  0.00141444  0.00157537  0.00141624\n",
      "   0.00165575  0.001528    0.00135437  0.00153125]\n",
      " [ 0.00165725  0.00165437  0.00172904  0.0014271   0.00158377  0.00142571\n",
      "   0.0016716   0.00153715  0.00136444  0.00154243]\n",
      " [ 0.00167189  0.0016702   0.00174462  0.00144107  0.00159398  0.00143678\n",
      "   0.00168999  0.0015479   0.00137587  0.00155575]\n",
      " [ 0.00168803  0.00168753  0.00176236  0.00145624  0.00160548  0.00144931\n",
      "   0.00170934  0.00156034  0.00138816  0.00157089]\n",
      " [ 0.00170489  0.00170693  0.00178112  0.00147139  0.00161846  0.00146357\n",
      "   0.00173034  0.00157404  0.00140225  0.00158668]\n",
      " [ 0.00172369  0.00172727  0.0018016   0.00148703  0.00163384  0.00148083\n",
      "   0.00175301  0.00158962  0.00141814  0.00160422]\n",
      " [ 0.00174533  0.00174875  0.00182213  0.00150228  0.00165045  0.00149964\n",
      "   0.00177864  0.00160452  0.00143634  0.00162467]\n",
      " [ 0.00177024  0.00177035  0.00184514  0.00151867  0.00166875  0.00151975\n",
      "   0.00180441  0.00162099  0.00145662  0.00164708]\n",
      " [ 0.00179752  0.00179349  0.00187088  0.00153655  0.00168816  0.00154002\n",
      "   0.00182844  0.00163883  0.00147661  0.00166959]\n",
      " [ 0.00182622  0.00181983  0.00189737  0.00155729  0.00170926  0.00156324\n",
      "   0.00185537  0.00165818  0.00149879  0.00169163]\n",
      " [ 0.00185587  0.00184829  0.00192683  0.00157945  0.0017323   0.00158937\n",
      "   0.00188511  0.00168135  0.00152444  0.00171667]\n",
      " [ 0.00188883  0.00188067  0.00196106  0.00160481  0.00175884  0.00161834\n",
      "   0.00191839  0.00170684  0.00155365  0.00174599]\n",
      " [ 0.00192761  0.00191802  0.00199988  0.00163432  0.00178581  0.00164945\n",
      "   0.0019551   0.00173432  0.00158593  0.00177934]\n",
      " [ 0.00196651  0.00195762  0.00204139  0.00166433  0.00181632  0.00168237\n",
      "   0.00199138  0.00176437  0.00161742  0.0018118 ]\n",
      " [ 0.00200848  0.00199748  0.00208621  0.00169763  0.00185062  0.00171917\n",
      "   0.00203121  0.0017978   0.00165216  0.00184679]\n",
      " [ 0.00204436  0.00203879  0.00213331  0.0017332   0.00188851  0.00175375\n",
      "   0.00207403  0.00183315  0.00168655  0.00188454]\n",
      " [ 0.00207828  0.00207529  0.0021772   0.00176642  0.00191762  0.00178535\n",
      "   0.0021145   0.0018676   0.00171536  0.0019165 ]\n",
      " [ 0.00211554  0.00211743  0.00222446  0.00180084  0.00195032  0.00181963\n",
      "   0.00215701  0.00190101  0.00174768  0.00194986]\n",
      " [ 0.00215594  0.00216295  0.00227596  0.00183554  0.00198776  0.00185848\n",
      "   0.00220075  0.00193643  0.00178135  0.00198859]\n",
      " [ 0.00220314  0.00221331  0.00233306  0.00187556  0.00202887  0.00190194\n",
      "   0.00224757  0.00197748  0.00182104  0.00203226]\n",
      " [ 0.00225211  0.00226212  0.00238891  0.00191581  0.00207011  0.00194351\n",
      "   0.00229343  0.0020204   0.00186115  0.00207429]\n",
      " [ 0.00230149  0.0023147   0.00244562  0.00195516  0.00211407  0.00198283\n",
      "   0.00234098  0.00206549  0.00189946  0.00211903]\n",
      " [ 0.00235823  0.00237547  0.00251138  0.00200128  0.00216397  0.00202998\n",
      "   0.00239604  0.00211635  0.0019442   0.00216945]\n",
      " [ 0.0024262   0.00244848  0.00258922  0.00205767  0.00222442  0.00208711\n",
      "   0.00246204  0.00217792  0.00199865  0.00223006]\n",
      " [ 0.00250764  0.00253619  0.0026815   0.00212651  0.0022976   0.00215627\n",
      "   0.0025412   0.00225242  0.00206485  0.00230292]\n",
      " [ 0.00259587  0.00263244  0.00277726  0.00220773  0.0023693   0.00223906\n",
      "   0.00262925  0.00233353  0.00214281  0.0023882 ]\n",
      " [ 0.0026892   0.0027377   0.00288602  0.00229305  0.00245102  0.00232414\n",
      "   0.0027225   0.00242335  0.00222373  0.00247795]\n",
      " [ 0.00277259  0.00282795  0.00297505  0.0023724   0.00252821  0.00239938\n",
      "   0.00280672  0.00250362  0.00229993  0.00255703]\n",
      " [ 0.00282873  0.00288521  0.00302764  0.00242641  0.00256919  0.00245245\n",
      "   0.00285312  0.00256135  0.00234569  0.00260701]\n",
      " [ 0.00287395  0.00293554  0.00307498  0.00246836  0.00259991  0.0024916\n",
      "   0.00289169  0.00260627  0.00237886  0.00264679]\n",
      " [ 0.00292798  0.00299543  0.00313129  0.00251916  0.00263815  0.00253886\n",
      "   0.00293802  0.00266007  0.00241948  0.00269474]\n",
      " [ 0.00299258  0.00306677  0.00319836  0.00258062  0.00268558  0.00259589\n",
      "   0.00299369  0.00272454  0.00246912  0.00275253]\n",
      " [ 0.00306987  0.00315182  0.0032783   0.00265497  0.00274419  0.0026647\n",
      "   0.0030606   0.00280181  0.00252969  0.00282217]\n",
      " [ 0.00316239  0.0032533   0.00337366  0.00274486  0.00281643  0.00274772\n",
      "   0.00314104  0.00289449  0.00260352  0.00290611]\n",
      " [ 0.00327321  0.00337447  0.00348751  0.00285352  0.00290525  0.00284786\n",
      "   0.00323774  0.00300567  0.00269339  0.00300725]\n",
      " [ 0.00330953  0.00340069  0.00352092  0.0028922   0.00295705  0.00289274\n",
      "   0.00328468  0.00304179  0.00274444  0.00305138]\n",
      " [ 0.00330953  0.00340069  0.00352092  0.0028922   0.00295705  0.00289274\n",
      "   0.00328468  0.00304179  0.00274444  0.00305138]\n",
      " [ 0.00330953  0.00340069  0.00352092  0.0028922   0.00295705  0.00289274\n",
      "   0.00328468  0.00304179  0.00274444  0.00305138]\n",
      " [ 0.00330953  0.00340069  0.00352092  0.0028922   0.00295705  0.00289274\n",
      "   0.00328468  0.00304179  0.00274444  0.00305138]\n",
      " [ 0.00330953  0.00340069  0.00352092  0.0028922   0.00295705  0.00289274\n",
      "   0.00328468  0.00304179  0.00274444  0.00305138]\n",
      " [ 0.00330953  0.00340069  0.00352092  0.0028922   0.00295705  0.00289274\n",
      "   0.00328468  0.00304179  0.00274444  0.00305138]\n",
      " [ 0.00330953  0.00340069  0.00352092  0.0028922   0.00295705  0.00289274\n",
      "   0.00328468  0.00304179  0.00274444  0.00305138]\n",
      " [ 0.00330953  0.00340069  0.00352092  0.0028922   0.00295705  0.00289274\n",
      "   0.00328468  0.00304179  0.00274444  0.00305138]\n",
      " [ 0.00330953  0.00340069  0.00352092  0.0028922   0.00295705  0.00289274\n",
      "   0.00328468  0.00304179  0.00274444  0.00305138]\n",
      " [ 0.00330953  0.00340069  0.00352092  0.0028922   0.00295705  0.00289274\n",
      "   0.00328468  0.00304179  0.00274444  0.00305138]\n",
      " [ 0.00330953  0.00340069  0.00352092  0.0028922   0.00295705  0.00289274\n",
      "   0.00328468  0.00304179  0.00274444  0.00305138]\n",
      " [ 0.00330953  0.00340069  0.00352092  0.0028922   0.00295705  0.00289274\n",
      "   0.00328468  0.00304179  0.00274444  0.00305138]\n",
      " [ 0.00330953  0.00340069  0.00352092  0.0028922   0.00295705  0.00289274\n",
      "   0.00328468  0.00304179  0.00274444  0.00305138]\n",
      " [ 0.00330953  0.00340069  0.00352092  0.0028922   0.00295705  0.00289274\n",
      "   0.00328468  0.00304179  0.00274444  0.00305138]\n",
      " [ 0.00330953  0.00340069  0.00352092  0.0028922   0.00295705  0.00289274\n",
      "   0.00328468  0.00304179  0.00274444  0.00305138]]\n"
     ]
    }
   ],
   "source": [
    "# TODO\n",
    "from sklearn import linear_model \n",
    "nfold = 10\n",
    "kf1 = sklearn.model_selection.KFold(n_splits=nfold,shuffle=True)\n",
    "\n",
    "model = linear_model.Lasso(warm_start= True)\n",
    "nalpha= 100\n",
    "alphas = np.logspace(-5,-1,nalpha)\n",
    "\n",
    "mse = np.zeros((nalpha,nfold))\n",
    "for ifold ,ind in enumerate(kf1.split(X)):\n",
    "    Itr,Its = ind\n",
    "    X_tr = X[Itr,:]\n",
    "    y_tr = y0[Itr]\n",
    "    X_ts = X[Its,:]\n",
    "    y_ts = y0[Its]\n",
    "    \n",
    "    for ia,a  in enumerate(alphas):\n",
    "        \n",
    "        model.alpha = a\n",
    "        model.fit(X_tr,y_tr)\n",
    "        \n",
    "        y_ts_pred = model.predict(X_ts)\n",
    "        mse[ia,ifold] = np.mean((y_ts_pred - y_ts)**2)\n",
    "        \n",
    "print(mse)"
   ]
  },
  {
   "cell_type": "markdown",
   "metadata": {},
   "source": [
    "Plot the mean test RSS and test RSS standard error with the `plt.errorbar` plot."
   ]
  },
  {
   "cell_type": "code",
   "execution_count": 181,
   "metadata": {},
   "outputs": [
    {
     "data": {
      "image/png": "[encoded data removed]",
      "text/plain": [
       "<matplotlib.figure.Figure at 0x1ab14fc8a58>"
      ]
     },
     "metadata": {},
     "output_type": "display_data"
    },
    {
     "name": "stdout",
     "output_type": "stream",
     "text": [
      "Number of models:  100\n",
      "Minimum RSS:  0.00148620096899\n",
      "Maximim RSS:  0.0031095429329\n"
     ]
    }
   ],
   "source": [
    "# TODO\n",
    "rtm = np.mean(mse,axis=1)\n",
    "rse = np.std(mse,axis=1)/np.sqrt(nfold-1)\n",
    "plt.errorbar(alphas,rtm,yerr=rse,fmt='-')\n",
    "plt.xlabel('Alpha')\n",
    "plt.ylabel('RSS test mean')\n",
    "plt.show()\n",
    "print('Number of models: ' ,len(rtm))\n",
    "print('Minimum RSS: ', min(rtm))\n",
    "print('Maximim RSS: ',max(rtm))"
   ]
  },
  {
   "cell_type": "markdown",
   "metadata": {},
   "source": [
    "Find the optimal `alpha` and mean test RSS using the one standard error rule."
   ]
  },
  {
   "cell_type": "code",
   "execution_count": 136,
   "metadata": {},
   "outputs": [
    {
     "name": "stdout",
     "output_type": "stream",
     "text": [
      "Optimum alpha:  0.000722080901839\n"
     ]
    }
   ],
   "source": [
    "# TODO\n",
    "imin = np.argmin(rtm)\n",
    "mse_tgt = rtm[imin]+rse[imin]\n",
    "alph_min = alphas[imin]\n",
    "\n",
    "I=np.where(rtm<mse_tgt)[0]\n",
    "iopt = I[-1]\n",
    "alpha_opt = alphas[iopt]\n",
    "print('Optimum alpha: ',alpha_opt)"
   ]
  },
  {
   "cell_type": "markdown",
   "metadata": {},
   "source": [
    "Using the optimal alpha, recompute the predicted response variable on the whole data.  Plot the predicted vs. actual values."
   ]
  },
  {
   "cell_type": "code",
   "execution_count": 137,
   "metadata": {},
   "outputs": [
    {
     "data": {
      "image/png": "[encoded data removed]",
      "text/plain": [
       "<matplotlib.figure.Figure at 0x1ab127fbe48>"
      ]
     },
     "metadata": {},
     "output_type": "display_data"
    }
   ],
   "source": [
    "# TODO\n",
    "remodel = linear_model.Lasso(warm_start= True)\n",
    "remodel.alpha = alpha_opt\n",
    "remodel.fit(X,y0)\n",
    "y_ts_pred = remodel.predict(X)\n",
    "        #mse[ia,ifold] = np.mean((y_ts_pred - y0)**2)\n",
    "plt.scatter(y0,y_ts_pred)\n",
    "plt.plot(y_ts_pred,y_ts_pred,'r')\n",
    "plt.xlabel('Actual')\n",
    "plt.ylabel('Predicted')\n",
    "plt.legend([ 'Line where Actual = Predicted', 'Actual vs predicted'])\n",
    "\n",
    "plt.show()"
   ]
  },
  {
   "cell_type": "markdown",
   "metadata": {},
   "source": [
    "## More Fun\n",
    "\n",
    "You can play around with this and many other neural data sets.  Two things that one can do to further improve the quality of fit are:\n",
    "* Use more time lags in the data.  Instead of predicting the hand motion from the spikes in the previous time, use the spikes in the last few delays.\n",
    "* Add a nonlinearity.  You should see that the predicted hand motion differs from the actual for high values of the actual.  You can improve the fit by adding a nonlinearity on the output.  A polynomial fit would work well here.\n",
    "\n",
    "You do not need to do these, but you can try them if you like."
   ]
  },
  {
   "cell_type": "code",
   "execution_count": null,
   "metadata": {
    "collapsed": true
   },
   "outputs": [],
   "source": [
    "pwd"
   ]
  }
 ],
 "metadata": {
  "anaconda-cloud": {},
  "kernelspec": {
   "display_name": "Python 3",
   "language": "python",
   "name": "python3"
  },
  "language_info": {
   "codemirror_mode": {
    "name": "ipython",
    "version": 3
   },
   "file_extension": ".py",
   "mimetype": "text/x-python",
   "name": "python",
   "nbconvert_exporter": "python",
   "pygments_lexer": "ipython3",
   "version": "3.6.1"
  }
 },
 "nbformat": 4,
 "nbformat_minor": 1
}

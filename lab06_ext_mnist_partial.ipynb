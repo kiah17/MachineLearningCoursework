{
 "cells": [
  { 
   "cell_type": "markdown",
   "metadata": {},
   "source": [
    "# Lab 6:  SVMs on an Extended  MNIST \n",
    "\n",
    "In addition to the concepts in the [MNIST demo](mnist_svm.ipynb), you will learn:\n",
    "\n",
    "* Use the `skimage` module for some basic pre-processing of images in machine learning\n",
    "* Run and test an SVM classifier on a dataset you have created\n",
    "* Perform error handling in python\n",
    "\n",
    "In the [MNIST demo](mnist_svm.ipynb), we saw how SVMs can be used for the classic MNIST problem of digit recognition.  In this lab, we are going to extend the MNIST dataset by adding a number of non-digit letters and see if the classifier can distinguish the digits from the non-digits.  All non-digits will be lumped as a single 11-th class.  In image processing, this is called a 'detection' as opposed to 'classification' problem.  Detection is vital in OCR and related problems since the non useful characters must be rejected.  For this lab we will create a very simple version of this problem."
   ]
  },
  {
   "cell_type": "markdown",
   "metadata": {},
   "source": [
    "## Loading the MNIST data\n",
    "\n",
    "We first import the standard modules"
   ]
  },
  {
   "cell_type": "code",
   "execution_count": 2,
   "metadata": {
    "collapsed": true
   },
   "outputs": [],
   "source": [
    "import numpy as np\n",
    "import matplotlib.pyplot as plt\n",
    "%matplotlib inline\n",
    "from sklearn import linear_model, preprocessing"
   ]
  },
  {
   "cell_type": "markdown",
   "metadata": {},
   "source": [
    "Next, fetch the digits with `fetch_mldata` command as shown in the demo.  Save the digits data matrix and labels to variables `Xdig` and `ydig`.  Also, recall that the pixel values in `Xdig` are between 0 and 255.  Create a scaled version of `Xdig` called `Xdigs` where the components are between -1 and 1."
   ]
  },
  {
   "cell_type": "code",
   "execution_count": 3,
   "metadata": {},
   "outputs": [
    {
     "data": {
      "text/plain": [
       "(70000, 784)"
      ]
     },
     "execution_count": 3,
     "metadata": {},
     "output_type": "execute_result"
    }
   ],
   "source": [
    "# TODO\n",
    "from sklearn.datasets import fetch_mldata\n",
    "mnist = fetch_mldata(\"MNIST original\")\n",
    "mnist.data.shape\n"
   ]
  },
  {
   "cell_type": "code",
   "execution_count": 5,
   "metadata": {
    "collapsed": true
   },
   "outputs": [],
   "source": [
    "Xdig = mnist.data\n",
    "ydig = mnist.target \n",
    "Xdigs = (Xdig - 127.5)/127.5"
   ]
  },
  {
   "cell_type": "markdown",
   "metadata": {},
   "source": [
    "Create a function `plt_digit` that plots the digits.  You can use the code from the demo.  Test the function by plotting four random digits.  Use the `plt.title` command to print the numeric label in `ydig` above each digit."
   ]
  },
  {
   "cell_type": "code",
   "execution_count": 9,
   "metadata": {},
   "outputs": [
    {
     "data": {
      "image/png": "[encoded data removed]",
      "text/plain": [
       "<matplotlib.figure.Figure at 0x29921bd4978>"
      ]
     },
     "metadata": {},
     "output_type": "display_data"
    }
   ],
   "source": [
    "# TODO: Select four random digits and plot them using the subplot command\n",
    "def plt_digit(x):\n",
    "    nrow = 28\n",
    "    ncol = 28\n",
    "    xsq = x.reshape((nrow,ncol))\n",
    "    plt.imshow(xsq,  cmap='Greys_r')\n",
    "    plt.xticks([])\n",
    "    plt.yticks([])\n",
    "\n",
    "# Select random digits\n",
    "nplt = 4\n",
    "nsamp = Xdig.shape[0]\n",
    "Iperm = np.random.permutation(nsamp)\n",
    "\n",
    "# Plot the images using the subplot command\n",
    "for i in range(nplt):\n",
    "    ind = Iperm[i]\n",
    "    plt.subplot(1,nplt,i+1)\n",
    "    #print(Xdigs[ind,:])\n",
    "    plt_digit(Xdigs[ind,:])\n",
    "    plt.title(str(ydig[ind]))"
   ]
  },
  {
   "cell_type": "markdown",
   "metadata": {},
   "source": [
    "## Exception Handling\n",
    "\n",
    "In the routines we will develop below, we will need to handle error conditions, called exceptions. A very nice description of how to perform exception handling in python is given in\n",
    "\n",
    "https://docs.python.org/3/tutorial/errors.html\n",
    "\n",
    "As described there, errors are described by a class that derives from a base class Exception. When the error occurs, the program raises the exception with the raise command. The calling function can catch the exception with the try ... except control flow. We will define our exception as follows which has an optional string argument."
   ]
  },
  {
   "cell_type": "code",
   "execution_count": 299,
   "metadata": {
    "collapsed": true
   },
   "outputs": [],
   "source": [
    "class ImgException(Exception):\n",
    "    def __init__(self, msg='No msg'):\n",
    "        self.msg = msg"
   ]
  },
  {
   "cell_type": "markdown",
   "metadata": {},
   "source": [
    "Exceptions are used as follows:  First, when there is an error in some function, you `raise` the exception as follows:\n",
    "\n",
    "    foo():\n",
    "        ...\n",
    "        if (error):\n",
    "           raise ImgException(\"File not found\")\n",
    "           \n",
    "        # Code that will not execute if the error condition occured\n",
    "        \n",
    "     \n",
    "The function that calls `foo()` can catch the error using the following syntax:\n",
    "\n",
    "    try: \n",
    "        foo()\n",
    "        \n",
    "        # Continue processing in case when there was no exception\n",
    "        ....\n",
    "        \n",
    "    except ImgException as e:\n",
    "        print(\"foo() didn't work\")\n",
    "        print(\"Error msg = %s\" % e.msg)"
   ]
  },
  {
   "cell_type": "markdown",
   "metadata": {},
   "source": [
    "## Get Non-Digit Characters\n",
    "\n",
    "We will now build a set of non-digit characters.  As a simple source, we will get hand-written lowercase letters 'a' to 'z' and process them with the `skimage` package.  The `skimage` module is a very powerful package that has a similar interface as OpenCV.  We first import the relevant modules."
   ]
  },
  {
   "cell_type": "code",
   "execution_count": 300,
   "metadata": {
    "collapsed": true
   },
   "outputs": [],
   "source": [
    "import matplotlib.image as mpimg\n",
    "import skimage.io\n",
    "from skimage.filters import threshold_otsu\n",
    "from skimage.segmentation import clear_border\n",
    "from skimage.measure import label, regionprops\n",
    "from skimage.morphology import closing, square\n",
    "from skimage.color import label2rgb\n",
    "from skimage.transform import resize\n",
    "import matplotlib.patches as mpatches\n",
    "from skimage import data\n",
    "import skimage"
   ]
  },
  {
   "cell_type": "markdown",
   "metadata": {},
   "source": [
    "We can get a set of character images from a very nice website\n",
    "\n",
    "http://www.ee.surrey.ac.uk/CVSSP/demos/chars74k/\n",
    "\n",
    "Go to this website, and download the file `EnglishHnd.tgz`.  After you untar this file, there are a large number of `.png` files in the directory:\n",
    "\n",
    "    EnglishHnd\\English\\Hnd\\Img\n",
    "    \n",
    "Each directory has about 55 samples of hand-written letters and numbers.  After you have downloaded this file, complete the function `load_img` to load an image from a character and sample index.\n",
    "\n",
    "Alternatively, the files are available on Google Drive:\n",
    "\n",
    "https://drive.google.com/file/d/0BxOz-SM9a1h4UksxSXBjQ0dabUk/view?usp=sharing \n",
    "\n",
    "You can download and unzip the file.\n",
    "\n",
    "The code at the end will test the function to see if it working correctly.  For one sample, it should print the image and a second it should say the file was not found."
   ]
  },
  {
   "cell_type": "code",
   "execution_count": 301,
   "metadata": {
    "collapsed": true
   },
   "outputs": [],
   "source": [
    "import os.path\n",
    "\n",
    "def load_img(char_ind, samp_ind):\n",
    "    \"\"\"\n",
    "    Returns the image from the dataset given a character and sample index.\n",
    "    \n",
    "        \n",
    "    If the file doesn't exist, it raises an Exception with the filename.   \n",
    "    \"\"\" \n",
    "    \n",
    "    # TODO:  Set the file name based on char_ind and samp_ind\n",
    "    if char_ind<=9 and samp_ind<=9:\n",
    "        fname = \"img00\"+str(char_ind)+\"-00\"+str(samp_ind)+\".png\"\n",
    "    elif char_ind<=9 and samp_ind>9:\n",
    "        fname = \"img00\"+str(char_ind)+\"-0\"+str(samp_ind)+\".png\"\n",
    "    elif char_ind>9 and samp_ind<=9:\n",
    "        fname = \"img0\"+str(char_ind)+\"-00\"+str(samp_ind)+\".png\"\n",
    "    else: \n",
    "        fname = \"img0\"+str(char_ind)+\"-0\"+str(samp_ind)+\".png\"\n",
    "        \n",
    "    # TODO:  Use the os.path.isfile command to check if the file exists.  \n",
    "    # If not raise an ImgException with the message \"[fname] not found\"\n",
    "    if char_ind<=9:\n",
    "        check = os.path.isfile(\"EnglishHnd/EnglishHnd/English/Hnd/\\\n",
    "                               Img/Sample00\"+str(char_ind)+\"/\"+str(fname))\n",
    "    else:\n",
    "        check = os.path.isfile(\"EnglishHnd/EnglishHnd/English\\\n",
    "                               /Hnd/Img/Sample0\"+str(char_ind)+\"/\"+str(fname))\n",
    "    \n",
    "    if (check):\n",
    "        pass\n",
    "    else:\n",
    "        raise ImgException(\"Sample0\" + str(char_ind)\\\n",
    "                           +\"\\\\\" + str(fname) + \" not found\")\n",
    "\n",
    "    if char_ind<=9:\n",
    "        ffname = \"EnglishHnd/EnglishHnd/English/Hnd/Img/Sample00\"\\\n",
    "                                            +str(char_ind)+\"/\"+str(fname)\n",
    "    else:\n",
    "        ffname = \"EnglishHnd/EnglishHnd/English/Hnd/Img/Sample0\"\\\n",
    "                                            +str(char_ind)+\"/\"+str(fname)\n",
    "    # TODO:  Use the skimage.io.imread() command to read the png file and return the image.\n",
    "    img = skimage.io.imread(ffname)\n",
    "    return img\n",
    "\n"
   ]
  },
  {
   "cell_type": "markdown",
   "metadata": {},
   "source": [
    "Test the `load_img` function.  This should:\n",
    "* Plot the image in `Sample047\\img047-006.png`\n",
    "* Say that the `Sample047\\img047-070.png` is not found."
   ]
  },
  {
   "cell_type": "code",
   "execution_count": 302,
   "metadata": {},
   "outputs": [
    {
     "name": "stdout",
     "output_type": "stream",
     "text": [
      "Char = 47 samp=6\n"
     ]
    },
    {
     "data": {
      "image/png": "[encoded data removed]",
      "text/plain": [
       "<matplotlib.figure.Figure at 0x25f04b6f978>"
      ]
     },
     "metadata": {},
     "output_type": "display_data"
    },
    {
     "name": "stdout",
     "output_type": "stream",
     "text": [
      "Char = 47 samp=70\n",
      "Sample047\\img047-070.png not found\n"
     ]
    }
   ],
   "source": [
    "char_ind = 47\n",
    "samp_inds = [6,70]\n",
    "for samp_ind in samp_inds:\n",
    "    try:\n",
    "        print(\"Char = %d samp=%d\" % (char_ind, samp_ind))\n",
    "        img = load_img(char_ind=char_ind, samp_ind=samp_ind)\n",
    "       \n",
    "        plt.imshow(img)\n",
    "        plt.show()\n",
    "    except ImgException as e:\n",
    "        print(e.msg)\n",
    "        \n"
   ]
  },
  {
   "cell_type": "markdown",
   "metadata": {},
   "source": [
    "The images in the sample directory have very high resolution.  Complete the following method to find the image and place it in a 28 x 28 box.  You can look at this very nice demo of the `skimage` methods here:\n",
    "\n",
    "http://scikit-image.org/docs/dev/auto_examples/segmentation/plot_label.html\n",
    "\n",
    "The code is somewhat complex, so I have provided some of the steps, esp. for the thresholding."
   ]
  },
  {
   "cell_type": "code",
   "execution_count": 303,
   "metadata": {
    "collapsed": true
   },
   "outputs": [],
   "source": [
    "def mnist_resize(img):\n",
    "    \"\"\"\n",
    "    Extracts a character from the image, and places in a 28x28 image to match the MNIST format.\n",
    "    \n",
    "    Returns:\n",
    "    img1:  MNIST formatted 28 x 28 size image with the character from img\n",
    "    box:   A bounding box indicating the locations where the character was found in img.    \n",
    "    \"\"\"\n",
    "    # Image sizes (fixed for now).  To match the MNIST data, the image \n",
    "    # will be first resized to 20 x 20.  Then, the image will be placed in center of 28 x 28 box\n",
    "    # offet by 4 on each side.\n",
    "    nx_img = 20   \n",
    "    ny_img = 20\n",
    "    nx_box = 28   \n",
    "    ny_box = 28\n",
    "    offx = 4\n",
    "    offy = 4\n",
    "    \n",
    "    # TODO:  Convert the image to gray scale using the skimage.color.rgb2gray method.\n",
    "    bw = skimage.color.rgb2gray(img)\n",
    "    \n",
    "    # Threshold the image using OTSU threshold\n",
    "    thresh = threshold_otsu(bw)\n",
    "    bw = closing(bw < thresh, square(3)).astype(int)\n",
    "#     print('BW',bw)\n",
    "#     plt.imshow(bw)\n",
    "#     plt.show()\n",
    "    \n",
    "    # Get the regions in the image.\n",
    "    # This creates a list of regions in the image where the digit possibly is.\n",
    "    regions = regionprops(bw)\n",
    "\n",
    "    # TODO:  Find region with the largest area.  You can get the region area from region.area.\n",
    "    \n",
    "    regions_areas = [region.area for region in regions]\n",
    "    region_max = regions[np.argmax(np.array(regions_areas))]\n",
    "    area_max = max(np.array(regions_areas))\n",
    "    # Raise an ImgException if no region with area >= 100 was found\n",
    "    if (area_max < 100):\n",
    "        raise ImgException(\"No image found\")    \n",
    "                \n",
    "    # Get the bounding box of the character from region_max.bbox\n",
    "    minr, minc, maxr, maxc = region_max.bbox\n",
    "    box = [minr,minc,maxr,maxc]\n",
    "    \n",
    "    # TODO:  Crop the image in bw to the bounding box\n",
    "    bw_crop = bw[minr:maxr,minc:maxc]\n",
    "        \n",
    "    # TODO:  Resize the cropped image to a 20x20 using the resize command.\n",
    "    # You will need to use the mode = 'constant' option\n",
    "    bw_resize = resize(bw_crop,output_shape = (nx_img,ny_img),mode='constant')\n",
    "\n",
    "    # TODO:  Threshold back to a 0-1 image by comparing the pixels to their mean value\n",
    "    mean = np.mean(np.array(np.ravel(bw_resize)))\n",
    "#     mi = min(rav)\n",
    "#     ma = max(rav)\n",
    "\n",
    "    t_b = bw_resize > mean\n",
    "    img_ext = t_b.astype(int)\n",
    "    \n",
    "    x_flank = np.zeros((20,4))\n",
    "    ju = np.column_stack((x_flank,img_ext,x_flank))\n",
    "    y_flank = np.zeros((4,28))\n",
    "    img1 = np.vstack((y_flank,ju,y_flank))\n",
    "#     plt.imshow(img1,cmap='gray')\n",
    "#     plt.show()\n",
    "\n",
    "    return img1, box"
   ]
  },
  {
   "cell_type": "markdown",
   "metadata": {
    "collapsed": true
   },
   "source": [
    "Now test the `mnist_resize` program by completing the following code.  Create two subplots:\n",
    "* subplot(1,2,1):  The original image with the bounding box for the character that was found in the image.\n",
    "* subplot(1,2,2):  The MNIST resized image."
   ]
  },
  {
   "cell_type": "code",
   "execution_count": 304,
   "metadata": {},
   "outputs": [
    {
     "data": {
      "image/png": "[encoded data removed]",
      "text/plain": [
       "<matplotlib.figure.Figure at 0x25f05c7a9b0>"
      ]
     },
     "metadata": {},
     "output_type": "display_data"
    }
   ],
   "source": [
    "# Load an image\n",
    "img = load_img(13,9)\n",
    "\n",
    "try:\n",
    "    # Resize the image\n",
    "    img1, box = mnist_resize(img)\n",
    "    minc = box[1]\n",
    "    minr = box[0]\n",
    "    maxr = box[2]\n",
    "    maxc = box[3]\n",
    "    # TODO:  Plot the original image, img, along with a red box around the captured character.\n",
    "    # Use the mpatches.Rectangle and ax.add_patch methods to construct the rectangle.\n",
    "\n",
    "    fig,[ax1,ax2]= plt.subplots(nrows=1,ncols=2)\n",
    "    ax1.imshow(img)\n",
    "    \n",
    "    rect = mpatches.Rectangle((minc, minr), maxc - minc, maxr - minr,\n",
    "                                  fill=False, edgecolor='red', linewidth=2)\n",
    "    ax1.add_patch(rect)\n",
    "    \n",
    "\n",
    "    # TODO:  Plot the resized 28 x 28 image, img1.  You can use the plt_digit(img1) command \n",
    "    img1 \n",
    "    ax2.imshow(img1,cmap = 'gray')\n",
    "    #print(img1)\n",
    "    plt.title('MNIST Resized 28x28')\n",
    "    plt.show()\n",
    "       \n",
    "except ImgException as e:\n",
    "    print(e.msg)\n",
    "\n"
   ]
  },
  {
   "cell_type": "markdown",
   "metadata": {},
   "source": [
    "Now, run the command `nlet=1000` times to get 1000 letter images.  In each iteration, select a random image from a lowercase letter and add it to a matrix `Xlet`. "
   ]
  },
  {
   "cell_type": "code",
   "execution_count": 386,
   "metadata": {},
   "outputs": [
    {
     "name": "stdout",
     "output_type": "stream",
     "text": [
      "images captured = 50\n",
      "images captured = 100\n",
      "images captured = 150\n",
      "images captured = 200\n",
      "images captured = 250\n",
      "images captured = 300\n",
      "images captured = 350\n",
      "images captured = 400\n",
      "images captured = 450\n",
      "images captured = 500\n",
      "images captured = 550\n",
      "images captured = 600\n",
      "images captured = 650\n",
      "images captured = 700\n",
      "images captured = 750\n",
      "images captured = 800\n",
      "images captured = 850\n",
      "images captured = 900\n",
      "images captured = 950\n",
      "images captured = 1000\n"
     ]
    }
   ],
   "source": [
    "# Dimensions\n",
    "nlet = 1000\n",
    "nrow = 28\n",
    "ncol = 28\n",
    "npix = nrow*ncol\n",
    "Xlet = np.zeros((nlet, npix))\n",
    "\n",
    "i = 0\n",
    "while i < nlet:\n",
    "    # TODO:  Generate a random character and sample    \n",
    "    #45 and 51 are character indices for 'O' and 'I'\n",
    "    \n",
    "    li = [n for n in range(37,63) if (n!=45 and n!=51)] #all lower case letters except 'O' and 'I'\n",
    "    char_ind = np.random.choice(li)\n",
    "    samp_ind = np.random.randint(0,50)\n",
    "  \n",
    "        \n",
    "    try:\n",
    "        # TODO:  Load the image with load_img function\n",
    "        img = load_img(char_ind,samp_ind)\n",
    "        \n",
    "        # TODO:  Reize the image with mnist_resize function\n",
    "        img1, box = mnist_resize(img)\n",
    "        \n",
    "        # TODO:  Store the image in a row of Xlet[i,:] and increment i\n",
    "        Xlet[i,:] = np.ravel(img1)\n",
    "        i += 1\n",
    "        \n",
    "        # Print progress\n",
    "        if (i % 50 == 0):\n",
    "            print ('images captured = {0:d}'.format(i))\n",
    "    except ImgException:\n",
    "        # Skip if image loading or resizing failed\n",
    "        pass"
   ]
  },
  {
   "cell_type": "markdown",
   "metadata": {},
   "source": [
    "Since this takes a long time to generate, save the matrix `Xlet` to a file `Xlet.p` using the `pickle.dump` command."
   ]
  },
  {
   "cell_type": "code",
   "execution_count": 387,
   "metadata": {
    "collapsed": true
   },
   "outputs": [],
   "source": [
    "import pickle\n",
    "\n",
    "with open('Xlet.p', 'wb') as xlet:\n",
    "    pickle.dump(Xlet, xlet)"
   ]
  },
  {
   "cell_type": "markdown",
   "metadata": {},
   "source": [
    "Reload the data `Xlet` from the file `Xlet.p`"
   ]
  },
  {
   "cell_type": "code",
   "execution_count": 388,
   "metadata": {
    "collapsed": true
   },
   "outputs": [],
   "source": [
    "Xlet = pickle.load( open( \"Xlet.p\", \"rb\" ) )"
   ]
  },
  {
   "cell_type": "markdown",
   "metadata": {},
   "source": [
    "## Create Extended Training Data\n",
    "\n",
    "Now, create an extended data set by combining `ndig=5000` randomly selected digit samples and `nlet=1000` letters. \n",
    "* Select `ndig=5000` random samples from `Xdigs` and their labels in `ydig`.\n",
    "* Rescale the letters `Xlet` to a new matrix `Xlets = 2*Xlet-1` to make the pixel values go from -1 to 1.\n",
    "* Use the `np.vstack` command to create a 6000 element alpha-numeric data set `X`\n",
    "* Create a corresponding label vector `y` where all the non-digit characters are labeled with a non-digit label, `letter_lbl=10`.\n"
   ]
  },
  {
   "cell_type": "code",
   "execution_count": 389,
   "metadata": {},
   "outputs": [
    {
     "name": "stdout",
     "output_type": "stream",
     "text": [
      "images captured = 1000\n",
      "images captured = 2000\n",
      "images captured = 3000\n",
      "images captured = 4000\n",
      "images captured = 5000\n"
     ]
    }
   ],
   "source": [
    "# TODO\n",
    "Xlets = (2*Xlet) - 1 \n",
    "#print(Xlets.shape[0])\n",
    "letter_lbl = 10\n",
    "ylet = letter_lbl*np.ones(Xlets.shape[0])\n",
    "ylet =ylet.reshape(Xlets.shape[0],1)\n",
    "ndig = 5000\n",
    "nrow = 28\n",
    "ncol = 28\n",
    "npix = nrow*ncol\n",
    "Xdigi = np.zeros((ndig, npix))\n",
    "ydigi = np.zeros((ndig,1))\n",
    "j=0\n",
    "rand_per = np.random.permutation(Xdigs.shape[0])\n",
    "while j<ndig: \n",
    "    rand_samp = rand_per[j]\n",
    "    \n",
    "    Xdigi[j,:] = Xdigs[rand_samp]\n",
    "    ydigi[j,0] = ydig[rand_samp]\n",
    "    j+=1\n",
    "    \n",
    "    if (j % 1000 == 0):\n",
    "            print ('images captured = {0:d}'.format(j))\n",
    "ydigi = ydigi.reshape(ndig,1)\n",
    "X = np.vstack((Xdigi,Xlets))\n",
    "y = np.vstack((ydigi,ylet))\n",
    "# print(X.shape)\n",
    "# print(y[4950:5050])"
   ]
  },
  {
   "cell_type": "markdown",
   "metadata": {},
   "source": [
    "# Run the SVM classifier\n",
    "\n",
    "First create the SVM classifer.  Use an \"rbf\" classifier with `C=2.8` and `gamma=.0073`.  Not sure if these are the best parameters, you could try to search for better ones."
   ]
  },
  {
   "cell_type": "code",
   "execution_count": 390,
   "metadata": {
    "collapsed": true
   },
   "outputs": [],
   "source": [
    "from sklearn import svm\n",
    "\n",
    "# TODO:  Create a classifier: a support vector classifier\n",
    "svc = svm.SVC(C=2.8,kernel='rbf',gamma=0.0073)"
   ]
  },
  {
   "cell_type": "markdown",
   "metadata": {},
   "source": [
    "Get 5000 training samples `Xtr,ytr` and 1000 test samples `Xts,yts`.  Remember to randomly select them."
   ]
  },
  {
   "cell_type": "code",
   "execution_count": 391,
   "metadata": {
    "collapsed": true
   },
   "outputs": [],
   "source": [
    "# TODO\n",
    "r = np.random.permutation(X.shape[0])\n",
    "train_rows = r[0:5000]\n",
    "test_rows = r[5000:]\n",
    "# # print(len(train_rows))\n",
    "# # print(len(test_rows))\n",
    "# # print(train_rows in train_rows)\n",
    "# trialx = X[train_rows,:]\n",
    "# trialy = y[train_rows,:]\n",
    "# print(len(np.where(trialy==10)[0]))\n",
    "Xtr = X[train_rows,:]\n",
    "ytr = y[train_rows,:]\n",
    "ytr = ytr.reshape(5000,)\n",
    "Xts = X[test_rows,:]\n",
    "yts = y[test_rows,:]\n",
    "yts = yts.reshape(1000,)"
   ]
  },
  {
   "cell_type": "markdown",
   "metadata": {},
   "source": [
    "Use the `svc.fit` command to fit on the training data.  This may take a few minutes"
   ]
  },
  {
   "cell_type": "code",
   "execution_count": 392,
   "metadata": {},
   "outputs": [
    {
     "data": {
      "text/plain": [
       "SVC(C=2.8, cache_size=200, class_weight=None, coef0=0.0,\n",
       "  decision_function_shape=None, degree=3, gamma=0.0073, kernel='rbf',\n",
       "  max_iter=-1, probability=False, random_state=None, shrinking=True,\n",
       "  tol=0.001, verbose=False)"
      ]
     },
     "execution_count": 392,
     "metadata": {},
     "output_type": "execute_result"
    }
   ],
   "source": [
    "svc.fit(Xtr,ytr)"
   ]
  },
  {
   "cell_type": "markdown",
   "metadata": {},
   "source": [
    "Measure the accuracy on the test samples.  You should get about 96% accuracy.  You can get better by using more training samples, but it will just take longer to run."
   ]
  },
  {
   "cell_type": "code",
   "execution_count": 393,
   "metadata": {},
   "outputs": [
    {
     "name": "stdout",
     "output_type": "stream",
     "text": [
      "Accuracy: 96.3%\n"
     ]
    }
   ],
   "source": [
    "ypred = svc.predict(Xts)\n",
    "\n",
    "correct = [1 for i in range(0,len(ypred)) if ypred[i] == yts[i]]\n",
    "accuracy = len(correct)/len(ypred)\n",
    "print('Accuracy: '+str(accuracy*100) +\"%\")"
   ]
  },
  {
   "cell_type": "markdown",
   "metadata": {
    "collapsed": true
   },
   "source": [
    "Print the normalized confusion matrix"
   ]
  },
  {
   "cell_type": "code",
   "execution_count": 394,
   "metadata": {},
   "outputs": [
    {
     "name": "stdout",
     "output_type": "stream",
     "text": [
      "NORMALIZED CONFUSION MATRIX\n",
      "\n",
      "[[ 0.974  0.     0.     0.     0.     0.     0.     0.     0.     0.013\n",
      "   0.013]\n",
      " [ 0.     0.989  0.     0.011  0.     0.     0.     0.     0.     0.     0.   ]\n",
      " [ 0.     0.     0.961  0.     0.     0.     0.     0.01   0.01   0.     0.02 ]\n",
      " [ 0.011  0.     0.021  0.926  0.     0.011  0.     0.     0.021  0.     0.011]\n",
      " [ 0.     0.     0.     0.     0.955  0.     0.     0.015  0.     0.03   0.   ]\n",
      " [ 0.     0.     0.013  0.     0.     0.949  0.026  0.     0.013  0.     0.   ]\n",
      " [ 0.014  0.     0.     0.     0.     0.     0.971  0.     0.     0.     0.014]\n",
      " [ 0.     0.     0.     0.     0.013  0.     0.     0.961  0.     0.026  0.   ]\n",
      " [ 0.     0.     0.012  0.012  0.     0.     0.     0.     0.964  0.     0.012]\n",
      " [ 0.     0.     0.     0.021  0.     0.     0.     0.043  0.011  0.915\n",
      "   0.011]\n",
      " [ 0.     0.     0.     0.     0.     0.     0.     0.     0.     0.     1.   ]]\n"
     ]
    }
   ],
   "source": [
    "# TODO\n",
    "from sklearn.metrics import confusion_matrix\n",
    "label = np.linspace(0,10,11)\n",
    "CM = confusion_matrix(yts, ypred, labels=label)\n",
    "CM_sum = np.sum(CM,axis = 1).reshape(11,1)\n",
    "CM_N = CM/CM_sum\n",
    "print('NORMALIZED CONFUSION MATRIX\\n')\n",
    "print(np.array_str(CM_N, precision=3, suppress_small=True))"
   ]
  },
  {
   "cell_type": "markdown",
   "metadata": {},
   "source": [
    "## Plotting some error samples\n",
    "\n",
    "We now plot some errors.  Plot up to four images where yhat == 10 but yts != 10.  That is, the true image was a digit, but the classifier classified it as a non-digit.  Note there may be less than four such errors (when I ran it I got only three such errors).  In that case, just plot only the errors you got.  If there are no errors, print \"No such error found\""
   ]
  },
  {
   "cell_type": "code",
   "execution_count": 424,
   "metadata": {},
   "outputs": [
    {
     "name": "stdout",
     "output_type": "stream",
     "text": [
      "Indices where yhat==10 and yts!=10: \n",
      " [52, 338, 393, 544, 671, 705, 983]\n"
     ]
    },
    {
     "data": {
      "image/png": "[encoded data removed]",
      "text/plain": [
       "<matplotlib.figure.Figure at 0x25f04d0a080>"
      ]
     },
     "metadata": {},
     "output_type": "display_data"
    },
    {
     "data": {
      "image/png": "[encoded data removed]",
      "text/plain": [
       "<matplotlib.figure.Figure at 0x25f04cf2ac8>"
      ]
     },
     "metadata": {},
     "output_type": "display_data"
    },
    {
     "data": {
      "image/png": "[encoded data removed]",
      "text/plain": [
       "<matplotlib.figure.Figure at 0x25f04a4a518>"
      ]
     },
     "metadata": {},
     "output_type": "display_data"
    },
    {
     "data": {
      "image/png": "[encoded data removed]",
      "text/plain": [
       "<matplotlib.figure.Figure at 0x25f052b3710>"
      ]
     },
     "metadata": {},
     "output_type": "display_data"
    }
   ],
   "source": [
    "# TODO\n",
    "ind = [i for i in range(0,yts.shape[0]) if (ypred[i] == 10 and yts[i]!=10) ]\n",
    "# yts.shape[0]\n",
    "print('Indices where yhat==10 and yts!=10: \\n',ind)\n",
    "ind = ind[0:4]\n",
    "if len(ind) ==0: \n",
    "    print('No such error found!')\n",
    "\n",
    "else:\n",
    "    \n",
    "    k=1\n",
    "    for ele in ind:\n",
    "        plt.subplot(1,4,k)\n",
    "        plt_digit(Xts[ele,:])\n",
    "        plt.title('True class: '+str(yts[ele]) +' , Predicted Class: '+str(ypred[ele]))\n",
    "        k+=1\n",
    "        plt.show()"
   ]
  },
  {
   "cell_type": "markdown",
   "metadata": {},
   "source": [
    "Now plot up to four images where yhat != 10, but yts == 10.  That is, the image was a non-digit, but the classifier thought it was an image.  I happened to get no such images.  If you find no such examples, print \"No such error found\"."
   ]
  },
  {
   "cell_type": "code",
   "execution_count": 425,
   "metadata": {},
   "outputs": [
    {
     "name": "stdout",
     "output_type": "stream",
     "text": [
      "No such error found!\n"
     ]
    }
   ],
   "source": [
    "# TODO\n",
    "ind = [i for i in range(0,yts.shape[0]) if (ypred[i] != 10 and yts[i]==10)]\n",
    "# yts.shape[0]\n",
    "#print('Indices where yhat!=10 and yts==10: \\n',ind)\n",
    "ind = ind[0:4]\n",
    "if len(ind) ==0: \n",
    "    print('No such error found!')\n",
    "else: \n",
    "    k=0\n",
    "    for ele in ind:\n",
    "        plt.subplot(1,4,k)\n",
    "        plt_digit(Xts[ele,:])\n",
    "        plt.title('True class: '+str(yts[ele]) +' , Predicted Class: '+str(ypred[ele]))\n",
    "        k+=1\n",
    "        plt.show()"
   ]
  },
  {
   "cell_type": "markdown",
   "metadata": {},
   "source": [
    "Finally, plot up to four images where yts != yhat and both yts < 10 and yhat < 10."
   ]
  },
  {
   "cell_type": "code",
   "execution_count": 426,
   "metadata": {},
   "outputs": [
    {
     "name": "stdout",
     "output_type": "stream",
     "text": [
      "Indices where yts != yhat and both yts < 10 and yhat < 10: \n",
      " [10, 61, 118, 162, 168, 188, 254, 272, 423, 475, 489, 533, 553, 585, 616, 620, 640, 663, 668, 763, 781, 816, 819, 880, 890, 893, 931, 940, 967, 971]\n"
     ]
    },
    {
     "data": {
      "image/png": "[encoded data removed]",
      "text/plain": [
       "<matplotlib.figure.Figure at 0x25f04286780>"
      ]
     },
     "metadata": {},
     "output_type": "display_data"
    },
    {
     "data": {
      "image/png": "[encoded data removed]",
      "text/plain": [
       "<matplotlib.figure.Figure at 0x25f049a0ef0>"
      ]
     },
     "metadata": {},
     "output_type": "display_data"
    },
    {
     "data": {
      "image/png": "[encoded data removed]",
      "text/plain": [
       "<matplotlib.figure.Figure at 0x25f05516a58>"
      ]
     },
     "metadata": {},
     "output_type": "display_data"
    },
    {
     "data": {
      "image/png": "[encoded data removed]",
      "text/plain": [
       "<matplotlib.figure.Figure at 0x25f056419e8>"
      ]
     },
     "metadata": {},
     "output_type": "display_data"
    }
   ],
   "source": [
    "# TODO\n",
    "ind = [i for i in range(0,yts.shape[0]) if ((yts[i]!=ypred[i]) \\\n",
    "                                        and yts[i]<10 and ypred[i]<10)]\n",
    "# yts.shape[0]\n",
    "print('Indices where yts != yhat and both yts < 10 and yhat < 10: \\n',ind)\n",
    "ind = ind[0:4]\n",
    "k=1\n",
    "for ele in ind:\n",
    "    plt.subplot(1,4,k)\n",
    "    plt_digit(Xts[ele,:])\n",
    "    plt.title('True class: '+str(yts[ele]) +' , Predicted Class: '+str(ypred[ele]))\n",
    "    k+=1\n",
    "    plt.show()"
   ]
  },
  {
   "cell_type": "code",
   "execution_count": null,
   "metadata": {
    "collapsed": true
   },
   "outputs": [],
   "source": []
  }
 ],
 "metadata": {
  "anaconda-cloud": {},
  "kernelspec": {
   "display_name": "Python 3",
   "language": "python",
   "name": "python3"
  },
  "language_info": {
   "codemirror_mode": {
    "name": "ipython",
    "version": 3
   },
   "file_extension": ".py",
   "mimetype": "text/x-python",
   "name": "python",
   "nbconvert_exporter": "python",
   "pygments_lexer": "ipython3",
   "version": "3.6.1"
  }
 },
 "nbformat": 4,
 "nbformat_minor": 1
}
